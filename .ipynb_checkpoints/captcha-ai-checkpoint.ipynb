{
 "cells": [
  {
   "cell_type": "code",
   "execution_count": null,
   "metadata": {
    "_cell_guid": "b1076dfc-b9ad-4769-8c92-a6c4dae69d19",
    "_uuid": "8f2839f25d086af736a60e9eeb907d3b93b6e0e5"
   },
   "outputs": [],
   "source": [
    "# This Python 3 environment comes with many helpful analytics libraries installed\n",
    "# It is defined by the kaggle/python Docker image: https://github.com/kaggle/docker-python\n",
    "# For example, here's several helpful packages to load\n",
    "import cv2\n",
    "import numpy as np # linear algebra\n",
    "import pandas as pd # data processing, CSV file I/O (e.g. pd.read_csv)\n",
    "import matplotlib.pyplot as plt\n",
    "import tensorflow as tf\n",
    "from tensorflow import keras\n",
    "img = cv2.imread('./backup/2b827.png')\n",
    "# Input data files are available in the read-only \"../input/\" directory\n",
    "# For example, running this (by clicking run or pressing Shift+Enter) will list all files under the input directory\n",
    "a=0\n",
    "train_labels2=np.asarray([])\n",
    "import os\n",
    "for dirname, _, filenames in os.walk(\"./backup\"):\n",
    "    for filename in filenames:\n",
    "        if a<5000:\n",
    "            train_labels2 = np.append(train_labels2, filename.replace(\".png\", \"\"))\n",
    "            m=cv2.imread(os.path.join(dirname, filename))\n",
    "            m =np.asarray(cv2.cvtColor(m, cv2.COLOR_BGR2GRAY))\n",
    "            m=m.reshape(1,200,50)\n",
    "            if a==0:\n",
    "                train_images=m\n",
    "            else:\n",
    "                train_images=np.vstack([train_images,m])\n",
    "            train_images=train_images.reshape(a+1,200,50)\n",
    "        else:\n",
    "            break\n",
    "        a+=1\n",
    "ext=np.zeros((1,5,36))\n",
    "train_labels=np.asarray([])\n",
    "b=0\n",
    "for x in range(0,len(train_labels2)):\n",
    "    if b==0:\n",
    "        train_labels=ext\n",
    "    else:\n",
    "        train_labels=np.vstack([train_labels,ext])\n",
    "    train_labels=train_labels.reshape(-1,5,36)\n",
    "    \n",
    "    for y in range(0,5):\n",
    "        if train_labels2[x][y].isnumeric():\n",
    "            if b==0:\n",
    "                train_labels[x,y,ord(str(train_labels2[x][y]))-48]=1\n",
    "            else:\n",
    "                train_labels[x,y,ord(str(train_labels2[x][y]))-48]=1\n",
    "        else:\n",
    "            if b==0:\n",
    "                train_labels[x,y,ord(str(train_labels2[x][y]))-87]=1\n",
    "            else:\n",
    "                train_labels[len(train_labels)-1,y,ord(str(train_labels2[x][y]))-87]=1\n",
    "    b+=1\n",
    "train_images=train_images.reshape(-1,50,200,1)\n",
    "train_labels=train_labels.reshape(-1,180)\n",
    "\n",
    "# You can write up to 5GB to the current directory (/kaggle/working/) that gets preserved as output when you create a version using \"Save & Run All\" \n",
    "# You can also write temporary files to /kaggle/temp/, but they won't be saved outside of the current session"
   ]
  },
  {
   "cell_type": "code",
   "execution_count": null,
   "metadata": {
    "_cell_guid": "79c7e3d0-c299-4dcb-8224-4455121ee9b0",
    "_uuid": "d629ff2d2480ee46fbb7e2d37f6b5fab8052498a"
   },
   "outputs": [],
   "source": [
    "model = keras.Sequential()\n",
    "model.add(keras.layers.Conv2D(input_shape=(50,200,1),padding=\"same\",filters=32, kernel_size=(3, 3), activation=tf.nn.tanh))\n",
    "model.add(keras.layers.MaxPooling2D(pool_size=(2, 2)))\n",
    "model.add(keras.layers.Flatten())\n",
    "model.add(keras.layers.Dense(units=500, activation=tf.nn.relu))\n",
    "model.add(keras.layers.Dense(units=300, activation=tf.nn.relu))\n",
    "model.add(keras.layers.Dropout(0.3))\n",
    "model.add(keras.layers.Dense(units=180, activation=tf.nn.sigmoid))\n",
    "opt = keras.optimizers.Adam(learning_rate=0.001)\n",
    "model.compile(optimizer=opt,loss= 'mse')\n",
    "train_images=train_images.reshape(-1,50,200,1)\n",
    "model.fit(train_images, train_labels, epochs=1,shuffle=True,batch_size=1)\n",
    "predict=model.predict(train_images)\n",
    "print(predict[0])\n",
    "print(train_labels[0])"
   ]
  }
 ],
 "metadata": {
  "kernelspec": {
   "display_name": "Python 3",
   "language": "python",
   "name": "python3"
  },
  "language_info": {
   "codemirror_mode": {
    "name": "ipython",
    "version": 3
   },
   "file_extension": ".py",
   "mimetype": "text/x-python",
   "name": "python",
   "nbconvert_exporter": "python",
   "pygments_lexer": "ipython3",
   "version": "3.8.5"
  }
 },
 "nbformat": 4,
 "nbformat_minor": 4
}
